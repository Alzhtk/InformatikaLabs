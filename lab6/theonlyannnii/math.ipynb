{
 "cells": [
  {
   "cell_type": "markdown",
   "metadata": {},
   "source": [
    "$$\n",
    "z= \n",
    "\\begin{cases}\n",
    "\\sin(5f(x)) + 3y \\lvert f(x) \\rvert, \\quad -1 < y < x\\\\\n",
    "\\cos(3f(x)) + 5y \\lvert f(x) \\rvert, \\quad x > y\\\\\n",
    "(f(x) + m)^2, \\quad x = y\\\\\n",
    "\\end{cases}\n",
    "$$"
   ]
  }
 ],
 "metadata": {
  "interpreter": {
   "hash": "e8593a51ec9c21553bd54460b2d9a8a3ed5ae1008c728af4c677e4c1034216d9"
  },
  "kernelspec": {
   "display_name": "Python 3.10.6 64-bit",
   "language": "python",
   "name": "python3"
  },
  "language_info": {
   "codemirror_mode": {
    "name": "ipython",
    "version": 3
   },
   "file_extension": ".py",
   "mimetype": "text/x-python",
   "name": "python",
   "nbconvert_exporter": "python",
   "pygments_lexer": "ipython3",
   "version": "3.10.6"
  },
  "orig_nbformat": 4
 },
 "nbformat": 4,
 "nbformat_minor": 2
}
