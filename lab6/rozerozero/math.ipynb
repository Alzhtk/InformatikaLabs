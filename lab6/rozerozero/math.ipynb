{
 "cells": [
  {
   "cell_type": "code",
   "execution_count": 5,
   "metadata": {},
   "outputs": [
    {
     "name": "stdout",
     "output_type": "stream",
     "text": [
      "6\n"
     ]
    }
   ],
   "source": [
    "import math\n",
    "x_y = int(input())\n",
    "a_y = int(input())\n",
    "f_math_y = x_y ** 2 - a_y\n",
    "s_math_y = (x_y / (x_y - (a_y / 25 - a_y)))*(math.tan(a_y) / ((a_y + x_y) ** 2)) + ((x_y ** 2) / math.sqrt(a_y))\n",
    "y = f_math_y if x_y > 0 else s_math_y\n",
    "print(y)"
   ]
  },
  {
   "cell_type": "markdown",
   "metadata": {},
   "source": []
  },
  {
   "cell_type": "code",
   "execution_count": 6,
   "metadata": {},
   "outputs": [
    {
     "name": "stdout",
     "output_type": "stream",
     "text": [
      "622.4287934927352\n"
     ]
    }
   ],
   "source": [
    "x_z = int(input())\n",
    "x_f = math.exp(x_z)\n",
    "f_math_z = math.log(x_f) + (x_f ** 2 + y ** 3) #x/y>0\n",
    "s_math_z = math.log(abs(x_f / y)) + (x_f + y ** 3) #x/y<0\n",
    "d_math_z = (x_f ** 2 + y) ** 3 #x=0\n",
    "g_math_z = 0 #y=0\n",
    "if x_f / y > 0: print(f_math_z)\n",
    "if x_f / y < 0: print(s_math_z)\n",
    "if x_f == 0: print(d_math_z)\n",
    "if y == 0: print(g_math_z)"
   ]
  },
  {
   "cell_type": "markdown",
   "metadata": {},
   "source": [
    "\\begin{equation}\n",
    "\\ln(f(x))+(f(x)^2+y)^3, \\frac{x}{y}>0\n",
    "\\end{equation}\n",
    "\n",
    "\\begin{equation}\n",
    "\\ln\\lvert f(x)/y \\rvert +(f(x)+y)^3, \\frac{x}{y}<0\n",
    "\\end{equation}\n",
    "\n",
    "\\begin{equation}\n",
    "(f(x)^2+y)^3, x=0\n",
    "\\end{equation}\n",
    "\n",
    "\\begin{equation}\n",
    "0, y=0\n",
    "\\end{equation}"
   ]
  }
 ],
 "metadata": {
  "interpreter": {
   "hash": "e8593a51ec9c21553bd54460b2d9a8a3ed5ae1008c728af4c677e4c1034216d9"
  },
  "kernelspec": {
   "display_name": "Python 3.10.6 64-bit",
   "language": "python",
   "name": "python3"
  },
  "language_info": {
   "codemirror_mode": {
    "name": "ipython",
    "version": 3
   },
   "file_extension": ".py",
   "mimetype": "text/x-python",
   "name": "python",
   "nbconvert_exporter": "python",
   "pygments_lexer": "ipython3",
   "version": "3.10.6"
  },
  "orig_nbformat": 4
 },
 "nbformat": 4,
 "nbformat_minor": 2
}
