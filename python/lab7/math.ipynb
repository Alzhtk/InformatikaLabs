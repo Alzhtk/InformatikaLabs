{
 "cells": [
  {
   "cell_type": "code",
   "execution_count": 1,
   "metadata": {},
   "outputs": [
    {
     "name": "stdout",
     "output_type": "stream",
     "text": [
      "temp: 5  pressure: 1.103346382310197e-46\n",
      "temp: 10  pressure: 1.1054769718200878e-46\n",
      "temp: 15  pressure: 1.0906884673781337e-46\n",
      "temp: 20  pressure: 1.091621383795136e-46\n",
      "temp: 25  pressure: 1.0927036686559093e-46\n",
      "temp: 30  pressure: 1.0939657147816726e-46\n",
      "temp: 35  pressure: 1.0954448002060617e-46\n",
      "temp: 40  pressure: 1.0971864087453463e-46\n",
      "temp: 45  pressure: 1.099245406029651e-46\n",
      "temp: 50  pressure: 1.1016865505001626e-46\n",
      "[1.103346382310197e-46, 1.1054769718200878e-46, 1.0906884673781337e-46, 1.091621383795136e-46, 1.0927036686559093e-46, 1.0939657147816726e-46, 1.0954448002060617e-46, 1.0971864087453463e-46, 1.099245406029651e-46, 1.1016865505001626e-46]\n"
     ]
    }
   ],
   "source": [
    "import math\n",
    "import random\n",
    "def math_func():\n",
    "    var = []\n",
    "    p_eq = []\n",
    "    def import_var():\n",
    "        for i in range(6):\n",
    "            #var.append(int(input()))\n",
    "            var.append(random.randint(-100,100))\n",
    "        return var\n",
    "\n",
    "    def calculation():\n",
    "        f_eq_1 = 0\n",
    "        temp = 0\n",
    "        f_eq_1_1 = (((var[1] + var[2])**2 + 1.08 * 10**3)**1/2) - var[3]\n",
    "        f_eq_1_2 = (((var[4] + var[2])**2 + 1.08 * 10**3)**1/2) - var[3]\n",
    "        f_eq_1_3 = (((var[5] + var[2])**2 + 1.08 * 10**3)**1/2) - var[3]\n",
    "        while temp < 50:\n",
    "            temp += 5\n",
    "            if temp <= 11.4: f_eq_1 = f_eq_1_1\n",
    "            elif ((temp > 11.4) or (temp <= 37.8)) : f_eq_1 = f_eq_1_2\n",
    "            elif temp >  37.8: f_eq_1 = f_eq_1_3\n",
    "            f_eq_2 = 1250/((((temp + var[2])**2 + 1.08 * 10**3)**1/2) - (var[3] - 1))\n",
    "            p_eq.append(math.exp(var[0] * (2.68 * (1 - f_eq_2 / f_eq_1) - 1)))\n",
    "            print('temp:', temp, ' pressure:', p_eq[-1])\n",
    "        return p_eq \n",
    "    import_var()\n",
    "    calculation()\n",
    "    print(p_eq)\n",
    "math_func()"
   ]
  }
 ],
 "metadata": {
  "kernelspec": {
   "display_name": "Python 3.10.8 64-bit (microsoft store)",
   "language": "python",
   "name": "python3"
  },
  "language_info": {
   "codemirror_mode": {
    "name": "ipython",
    "version": 3
   },
   "file_extension": ".py",
   "mimetype": "text/x-python",
   "name": "python",
   "nbconvert_exporter": "python",
   "pygments_lexer": "ipython3",
   "version": "3.10.8"
  },
  "orig_nbformat": 4,
  "vscode": {
   "interpreter": {
    "hash": "f2687b91a1f2972bc347b7d7634fc1add6bfd5dd6e5791e79d4ba1f59788f0a7"
   }
  }
 },
 "nbformat": 4,
 "nbformat_minor": 2
}
