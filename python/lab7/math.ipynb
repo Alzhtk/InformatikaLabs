{
 "cells": [
  {
   "cell_type": "code",
   "execution_count": 19,
   "metadata": {},
   "outputs": [
    {
     "name": "stdout",
     "output_type": "stream",
     "text": [
      "[14, -30, 80, -10, -71, 31]\n",
      "5\n",
      "10\n",
      "15\n",
      "20\n",
      "25\n",
      "30\n",
      "35\n",
      "40\n",
      "45\n",
      "50\n",
      "[16288772610.352598, 16298468444.486324, 16135931044.935728, 16158174318.988752, 16177727036.416029, 16194991274.881538, 16210299553.749481, 16223928157.03336, 16236107734.311697, 16247031749.41456]\n"
     ]
    }
   ],
   "source": [
    "import math\n",
    "import random\n",
    "var = []\n",
    "p_eq = []\n",
    "def import_var():\n",
    "    for i in range(6):\n",
    "        #var.append(int(input()))\n",
    "        var.append(random.randint(-100,100))\n",
    "    print(var)\n",
    "\n",
    "def calculation():\n",
    "    f_eq_1 = 0\n",
    "    temp = 0\n",
    "    while temp < 50:\n",
    "        temp += 5\n",
    "        f_eq_1_1 = (((var[1] + var[2])**2 + 1.08 * 10**3)**1/2) - var[3]\n",
    "        f_eq_1_2 = (((var[4] + var[2])**2 + 1.08 * 10**3)**1/2) - var[3]\n",
    "        f_eq_1_3 = (((var[5] + var[2])**2 + 1.08 * 10**3)**1/2) - var[3]\n",
    "        if temp <= 11.4: f_eq_1 = f_eq_1_1\n",
    "        elif ((temp > 11.4) or (temp <= 37.8)) : f_eq_1 = f_eq_1_2\n",
    "        elif temp >  37.8: f_eq_1 = f_eq_1_3\n",
    "        f_eq_2 = 1250/((((temp + var[2])**2 + 1.08 * 10**3)**1/2) - (var[3] - 1))\n",
    "        p_eq.append(math.exp(var[0] * (2.68 * (1 - f_eq_2 / f_eq_1) - 1)))\n",
    "        print(temp)\n",
    "    print(p_eq) \n",
    "\n",
    "import_var()\n",
    "calculation()\n"
   ]
  }
 ],
 "metadata": {
  "kernelspec": {
   "display_name": "Python 3.10.8 64-bit (microsoft store)",
   "language": "python",
   "name": "python3"
  },
  "language_info": {
   "codemirror_mode": {
    "name": "ipython",
    "version": 3
   },
   "file_extension": ".py",
   "mimetype": "text/x-python",
   "name": "python",
   "nbconvert_exporter": "python",
   "pygments_lexer": "ipython3",
   "version": "3.10.8"
  },
  "orig_nbformat": 4,
  "vscode": {
   "interpreter": {
    "hash": "f2687b91a1f2972bc347b7d7634fc1add6bfd5dd6e5791e79d4ba1f59788f0a7"
   }
  }
 },
 "nbformat": 4,
 "nbformat_minor": 2
}
